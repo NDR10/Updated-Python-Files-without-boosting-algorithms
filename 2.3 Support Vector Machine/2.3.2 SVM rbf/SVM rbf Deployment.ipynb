{
 "cells": [
  {
   "cell_type": "code",
   "execution_count": 2,
   "id": "b7d54ac5-c597-4567-a475-6b938375a982",
   "metadata": {},
   "outputs": [],
   "source": [
    "import pickle"
   ]
  },
  {
   "cell_type": "code",
   "execution_count": 4,
   "id": "2f2b5e02-8707-4e70-a8fc-d653de3b6f05",
   "metadata": {},
   "outputs": [
    {
     "data": {
      "text/plain": [
       "array([108599.21691873])"
      ]
     },
     "execution_count": 4,
     "metadata": {},
     "output_type": "execute_result"
    }
   ],
   "source": [
    "load_model=pickle.load(open(\"Python_program_SVM_rbf.sav\", \"rb\"))\n",
    "Result = load_model.predict([[1245,785,9886,1,0]])\n",
    "Result"
   ]
  },
  {
   "cell_type": "code",
   "execution_count": null,
   "id": "f1084edf-223d-406f-80d3-acc1094e00d7",
   "metadata": {},
   "outputs": [],
   "source": []
  }
 ],
 "metadata": {
  "kernelspec": {
   "display_name": "Python 3 (ipykernel)",
   "language": "python",
   "name": "python3"
  },
  "language_info": {
   "codemirror_mode": {
    "name": "ipython",
    "version": 3
   },
   "file_extension": ".py",
   "mimetype": "text/x-python",
   "name": "python",
   "nbconvert_exporter": "python",
   "pygments_lexer": "ipython3",
   "version": "3.12.4"
  }
 },
 "nbformat": 4,
 "nbformat_minor": 5
}
